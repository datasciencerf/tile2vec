{
 "cells": [
  {
   "cell_type": "code",
   "execution_count": 1,
   "metadata": {},
   "outputs": [],
   "source": [
    "import descarteslabs as dl\n",
    "import numpy as np\n",
    "import pickle\n",
    "from descarteslabs.client.services import Places\n",
    "import pandas as pd\n",
    "import matplotlib as mpl\n",
    "import matplotlib.patches as patches\n",
    "from matplotlib import pyplot as plt\n",
    "from tqdm.notebook import tqdm\n",
    "%matplotlib inline"
   ]
  },
  {
   "cell_type": "code",
   "execution_count": null,
   "metadata": {},
   "outputs": [],
   "source": [
    "#ca_counties = Places().prefix('north-america_united-states_california_sacramento-valley', placetype='county')\n",
    "t2v_area ={\n",
    "    \"type\": \"Polygon\",\n",
    "    \"coordinates\": [[\n",
    "        [-121.93, 39.8], [-121.68, 39.8], [-121.68, 39.55], [-121.93, 39.55], [-121.93, 39.8]\n",
    "    ]]\n",
    "}\n",
    "t2v_aoi = dl.scenes.AOI(t2v_area, resolution=1)"
   ]
  },
  {
   "cell_type": "code",
   "execution_count": null,
   "metadata": {},
   "outputs": [],
   "source": [
    "def haversine(g1, g2):\n",
    "    \"\"\"Calculate the Haversine Distance between two gps (lon, lat) coordinates.\"\"\"\n",
    "    earth_r = 6373.0\n",
    "    g1, g2 = np.radians(g1[::-1]), np.radians(g2[::-1])\n",
    "    delta = g1 - g2\n",
    "    a = np.sin(delta[0] / 2)**2 + np.cos(g1[0]) * np.cos(g2[0]) * np.sin(delta[1] / 2)**2\n",
    "    return  np.round(2000 * earth_r * np.arctan2(np.sqrt(a), np.sqrt(1-a)))\n",
    "\n",
    "def tile_distance(t1, t2):\n",
    "    \"\"\"Calculates the distances between first coordinates\"\"\"\n",
    "    g1, g2 = t1['geometry']['coordinates'][0], t2['geometry']['coordinates'][0]\n",
    "    return haversine(g1[0], g2[0])"
   ]
  },
  {
   "cell_type": "code",
   "execution_count": 2,
   "metadata": {},
   "outputs": [],
   "source": [
    "fp = 'data/tiles_butte/tiles2.pickle'\n",
    "with open(fp, 'rb') as path:\n",
    "    tile_data = pickle.load(path)"
   ]
  },
  {
   "cell_type": "code",
   "execution_count": 2,
   "metadata": {},
   "outputs": [
    {
     "data": {
      "application/vnd.jupyter.widget-view+json": {
       "model_id": "16f9f8372aee45c1b2fbd5c38b08a4e1",
       "version_major": 2,
       "version_minor": 0
      },
      "text/plain": [
       "HBox(children=(FloatProgress(value=0.0, max=59999.0), HTML(value='')))"
      ]
     },
     "metadata": {},
     "output_type": "display_data"
    },
    {
     "name": "stdout",
     "output_type": "stream",
     "text": [
      "\n"
     ]
    }
   ],
   "source": [
    "fp_b = 'data/tiles_butte/tile_imgs/tile_{}.npy'\n",
    "tiles = []\n",
    "for k in tqdm(range(59999)):\n",
    "    tiles.append(np.load(fp_b.format(k)))"
   ]
  },
  {
   "cell_type": "code",
   "execution_count": 3,
   "metadata": {},
   "outputs": [
    {
     "data": {
      "application/vnd.jupyter.widget-view+json": {
       "model_id": "34d8fee4095e40ceba042a17ae0d1f6d",
       "version_major": 2,
       "version_minor": 0
      },
      "text/plain": [
       "HBox(children=(FloatProgress(value=0.0, max=59999.0), HTML(value='')))"
      ]
     },
     "metadata": {},
     "output_type": "display_data"
    },
    {
     "name": "stdout",
     "output_type": "stream",
     "text": [
      "\n"
     ]
    },
    {
     "data": {
      "text/plain": [
       "{(5, 90, 87): 39979, (5, 90, 88): 20020}"
      ]
     },
     "execution_count": 3,
     "metadata": {},
     "output_type": "execute_result"
    }
   ],
   "source": [
    "tile_shapes = {}\n",
    "for tile in tqdm(tiles):\n",
    "    if tile.shape in tile_shapes:\n",
    "        tile_shapes[tile.shape] += 1\n",
    "    else:\n",
    "        tile_shapes[tile.shape] = 1\n",
    "tile_shapes"
   ]
  },
  {
   "cell_type": "code",
   "execution_count": 7,
   "metadata": {},
   "outputs": [],
   "source": [
    "t = np.arange(88)"
   ]
  },
  {
   "cell_type": "code",
   "execution_count": 10,
   "metadata": {},
   "outputs": [
    {
     "data": {
      "text/plain": [
       "array([ 0,  1,  2,  3,  4,  5,  6,  7,  8,  9, 10, 11, 12, 13, 14, 15, 16,\n",
       "       17, 18, 19, 20, 21, 22, 23, 24, 25, 26, 27, 28, 29, 30, 31, 32, 33,\n",
       "       34, 35, 36, 37, 38, 39, 40, 41, 42, 43, 44, 45, 46, 47, 48, 49, 50,\n",
       "       51, 52, 53, 54, 55, 56, 57, 58, 59, 60, 61, 62, 63, 64, 65, 66, 67,\n",
       "       68, 69, 70, 71, 72, 73, 74, 75, 76, 77, 78, 79, 80, 81, 82, 83, 84,\n",
       "       85, 86, 87])"
      ]
     },
     "execution_count": 10,
     "metadata": {},
     "output_type": "execute_result"
    }
   ],
   "source": [
    "t[:90]"
   ]
  },
  {
   "cell_type": "markdown",
   "metadata": {},
   "source": [
    "```\n",
    "for k in tqdm(range(len(tile_data))):\n",
    "    fp = 'data/tiles_butte/tile_imgs/tile_{}.npy'.format(k)\n",
    "    np.save(fp, tile_data[k]['array'])   \n",
    "```"
   ]
  },
  {
   "cell_type": "markdown",
   "metadata": {},
   "source": [
    "### Tile Data Generating Code\n",
    "```\n",
    "tiles = dl.raster.dltiles_from_shape(resolution=1,\n",
    "                                     tilesize=100,\n",
    "                                     pad=15,\n",
    "                                     shape=t2v_aoi)\n",
    "len(tiles['features'])\n",
    "tile_data = {}\n",
    "for k, tile in tqdm(enumerate(tiles['features'])):\n",
    "    scenes, ctx = dl.scenes.search(\n",
    "                        tile,\n",
    "                        products='airbus:oneatlas:spot:v2',\n",
    "                        start_datetime=\"2019-07-28\",\n",
    "                        end_datetime=\"2019-07-29\",\n",
    "                        limit=1\n",
    "                       )\n",
    "    tile_data[k] = {\n",
    "        'geometry': tile['geometry'],\n",
    "        'array': np.array(scenes.stack(\"red green blue nir derived:evi\", ctx)[0])\n",
    "    }\n",
    "\n",
    "fp = 'data/tiles_butte/tiles.pickle'\n",
    "with open(fp, 'wb') as path:\n",
    "    pickle.dump(tile_data, path, protocol=pickle.HIGHEST_PROTOCOL)\n",
    "```"
   ]
  },
  {
   "cell_type": "code",
   "execution_count": null,
   "metadata": {},
   "outputs": [],
   "source": [
    "scenes_area, ctx_area = dl.scenes.search(\n",
    "                    t2v_aoi,\n",
    "                    products='airbus:oneatlas:spot:v2',\n",
    "                    start_datetime=\"2019-07-28\",\n",
    "                    end_datetime=\"2019-07-29\",\n",
    "#                   cloud_fraction=0.7,\n",
    "                    limit=1\n",
    "                   )\n",
    "test_area = scenes_area.stack(\"red green blue\", ctx_area.assign(resolution=10))\n",
    "dl.scenes.display(test_area[0], size=10)"
   ]
  },
  {
   "cell_type": "code",
   "execution_count": 35,
   "metadata": {},
   "outputs": [],
   "source": [
    "def plot_im(a, figsize, patch=None):\n",
    "    if a.shape[0] > 3:\n",
    "        a = np.transpose(a[:3], (1,2,0))\n",
    "    else:\n",
    "        a = np.transpose(a, (1,2,0))\n",
    "    fig, ax = plt.subplots(1, figsize=figsize)\n",
    "    ax.imshow(a)\n",
    "    if patch is not None:\n",
    "        rect = patches.Rectangle(patch[0], patch[1], patch[2], linewidth=1,edgecolor='r',facecolor='none')\n",
    "        ax.add_patch(rect)\n",
    "    plt.show()"
   ]
  },
  {
   "cell_type": "code",
   "execution_count": 36,
   "metadata": {},
   "outputs": [
    {
     "ename": "NameError",
     "evalue": "name 'test_area' is not defined",
     "output_type": "error",
     "traceback": [
      "\u001b[0;31m---------------------------------------------------------------------------\u001b[0m",
      "\u001b[0;31mNameError\u001b[0m                                 Traceback (most recent call last)",
      "\u001b[0;32m<ipython-input-36-b612cbef7b20>\u001b[0m in \u001b[0;36m<module>\u001b[0;34m\u001b[0m\n\u001b[0;32m----> 1\u001b[0;31m \u001b[0mplot_im\u001b[0m\u001b[0;34m(\u001b[0m\u001b[0mtest_area\u001b[0m\u001b[0;34m[\u001b[0m\u001b[0;36m0\u001b[0m\u001b[0;34m]\u001b[0m\u001b[0;34m,\u001b[0m \u001b[0;34m(\u001b[0m\u001b[0;36m5\u001b[0m\u001b[0;34m,\u001b[0m\u001b[0;36m10\u001b[0m\u001b[0;34m)\u001b[0m\u001b[0;34m)\u001b[0m\u001b[0;34m\u001b[0m\u001b[0;34m\u001b[0m\u001b[0m\n\u001b[0m",
      "\u001b[0;31mNameError\u001b[0m: name 'test_area' is not defined"
     ]
    }
   ],
   "source": [
    "plot_im(test_area[0], (5,10))"
   ]
  },
  {
   "cell_type": "code",
   "execution_count": 50,
   "metadata": {},
   "outputs": [
    {
     "data": {
      "image/png": "[encoded data removed]",
      "text/plain": [
       "<Figure size 360x360 with 1 Axes>"
      ]
     },
     "metadata": {
      "needs_background": "light"
     },
     "output_type": "display_data"
    }
   ],
   "source": [
    "plot_im(tile_data[47050]['array'], (5,5))"
   ]
  },
  {
   "cell_type": "code",
   "execution_count": null,
   "metadata": {},
   "outputs": [],
   "source": [
    "t = tile_data[23000]['geometry']['coordinates'][0]\n",
    "t"
   ]
  },
  {
   "cell_type": "code",
   "execution_count": null,
   "metadata": {},
   "outputs": [],
   "source": [
    "def get_triplet(triplets, start_ix):\n",
    "    nbd, dist = None, None\n",
    "    while dist is None:\n",
    "        for k in np.random.choice(len(tile_data), 50, False):\n",
    "            if tile_distance(tile_data[start_ix], tile_data[k]) >= 150:\n",
    "                dist = k\n",
    "                break\n",
    "    while nbd is None:\n",
    "        for k in np.random.choice(np.arange(max(0, start_ix-5000), min(len(tile_data), start_ix+5000)),\n",
    "                                  50, False):\n",
    "            if tile_distance(tile_data[start_ix], tile_data[k]) < 150:\n",
    "                nbd = k\n",
    "                break\n",
    "    triplets.add((start_ix, nbd, dist))\n",
    "    return triplets"
   ]
  },
  {
   "cell_type": "code",
   "execution_count": null,
   "metadata": {},
   "outputs": [],
   "source": [
    "#triplets = set()\n",
    "for ix in tqdm(range(len(tile_data))):\n",
    "    triplets = get_triplet(triplets, ix)"
   ]
  },
  {
   "cell_type": "code",
   "execution_count": null,
   "metadata": {},
   "outputs": [],
   "source": [
    "trip_list = list(triplets)"
   ]
  },
  {
   "cell_type": "code",
   "execution_count": 100,
   "metadata": {},
   "outputs": [],
   "source": [
    "from scipy.stats import mode"
   ]
  },
  {
   "cell_type": "code",
   "execution_count": 133,
   "metadata": {},
   "outputs": [
    {
     "data": {
      "image/png": "[encoded data removed]",
      "text/plain": [
       "<Figure size 360x360 with 1 Axes>"
      ]
     },
     "metadata": {
      "needs_background": "light"
     },
     "output_type": "display_data"
    }
   ],
   "source": [
    "k = 0\n",
    "plot_im(tile_data[k]['array'], (5,5))"
   ]
  },
  {
   "cell_type": "code",
   "execution_count": 134,
   "metadata": {},
   "outputs": [],
   "source": [
    "tile_aoi = dl.scenes.AOI(tile_data[k]['geometry'], resolution=1)"
   ]
  },
  {
   "cell_type": "markdown",
   "metadata": {},
   "source": [
    "```\n",
    "fp = 'data/tiles_butte/tile_triplets.pickle'\n",
    "with open(fp, 'wb') as path:\n",
    "    pickle.dump(triplets, path, protocol=pickle.HIGHEST_PROTOCOL)\n",
    "```"
   ]
  },
  {
   "cell_type": "code",
   "execution_count": 137,
   "metadata": {},
   "outputs": [
    {
     "data": {
      "application/vnd.jupyter.widget-view+json": {
       "model_id": "2955653f9d3e43aab939bd4834ddc94a",
       "version_major": 2,
       "version_minor": 0
      },
      "text/plain": [
       "HBox(children=(FloatProgress(value=0.0, max=59999.0), HTML(value='')))"
      ]
     },
     "metadata": {},
     "output_type": "display_data"
    },
    {
     "name": "stdout",
     "output_type": "stream",
     "text": [
      "\n"
     ]
    }
   ],
   "source": [
    "y = np.zeros(59999, dtype='int')\n",
    "for k in tqdm(range(59999)):\n",
    "    tile_aoi = dl.scenes.AOI(tile_data[k]['geometry'], resolution=1)\n",
    "    scenes_area, ctx_area = dl.scenes.search(\n",
    "                        tile_aoi,\n",
    "                        products='usda:cdl:v1',\n",
    "                        start_datetime=\"2019-07-28\",\n",
    "                        end_datetime=\"2020-01-01\",\n",
    "    #                   cloud_fraction=0.7,\n",
    "                        limit=1\n",
    "                       )\n",
    "    y[k] = mode(np.array(scenes_area.stack('class', ctx_area))[0,0,:,:].flatten())[0][0]"
   ]
  },
  {
   "cell_type": "code",
   "execution_count": 136,
   "metadata": {},
   "outputs": [
    {
     "data": {
      "text/plain": [
       "76"
      ]
     },
     "execution_count": 136,
     "metadata": {},
     "output_type": "execute_result"
    }
   ],
   "source": [
    "mode(np.array(scenes_area.stack('class', ctx_area))[0,0,:,:].flatten())[0][0]"
   ]
  },
  {
   "cell_type": "code",
   "execution_count": 139,
   "metadata": {},
   "outputs": [
    {
     "data": {
      "text/plain": [
       "{0,\n",
       " 1,\n",
       " 3,\n",
       " 6,\n",
       " 23,\n",
       " 24,\n",
       " 28,\n",
       " 36,\n",
       " 37,\n",
       " 42,\n",
       " 44,\n",
       " 51,\n",
       " 53,\n",
       " 54,\n",
       " 58,\n",
       " 59,\n",
       " 61,\n",
       " 69,\n",
       " 71,\n",
       " 74,\n",
       " 75,\n",
       " 76,\n",
       " 111,\n",
       " 121,\n",
       " 122,\n",
       " 123,\n",
       " 124,\n",
       " 131,\n",
       " 141,\n",
       " 142,\n",
       " 143,\n",
       " 152,\n",
       " 176,\n",
       " 190,\n",
       " 195,\n",
       " 204,\n",
       " 205,\n",
       " 211,\n",
       " 212,\n",
       " 217,\n",
       " 220,\n",
       " 225}"
      ]
     },
     "execution_count": 139,
     "metadata": {},
     "output_type": "execute_result"
    }
   ],
   "source": [
    "set(y)"
   ]
  },
  {
   "cell_type": "code",
   "execution_count": 24,
   "metadata": {},
   "outputs": [
    {
     "data": {
      "text/plain": [
       "AOI(geometry=<shapely.geom...x7f316c007f50>,\n",
       "    resolution=30.0,\n",
       "    crs='+proj=aea +l...s=m +no_defs ',\n",
       "    align_pixels=True,\n",
       "    bounds=(-121.93135535571191, 39.72501735408825, -121.92982061375231, 39.72620245137548),\n",
       "    bounds_crs='EPSG:4326',\n",
       "    shape=None)"
      ]
     },
     "execution_count": 24,
     "metadata": {},
     "output_type": "execute_result"
    }
   ],
   "source": [
    "ctx_area"
   ]
  },
  {
   "cell_type": "code",
   "execution_count": 31,
   "metadata": {},
   "outputs": [
    {
     "data": {
      "text/plain": [
       "AOI(geometry=<shapely.geom...x7f316c01eb50>,\n",
       "    resolution=1,\n",
       "    crs=None,\n",
       "    align_pixels=True,\n",
       "    bounds=(-121.93135535571191, 39.72501735408825, -121.92982061375231, 39.72620245137548),\n",
       "    bounds_crs='EPSG:4326',\n",
       "    shape=None)"
      ]
     },
     "execution_count": 31,
     "metadata": {},
     "output_type": "execute_result"
    }
   ],
   "source": [
    "tile_aoi"
   ]
  },
  {
   "cell_type": "code",
   "execution_count": null,
   "metadata": {},
   "outputs": [],
   "source": []
  }
 ],
 "metadata": {
  "kernelspec": {
   "display_name": "Python 3",
   "language": "python",
   "name": "python3"
  },
  "language_info": {
   "codemirror_mode": {
    "name": "ipython",
    "version": 3
   },
   "file_extension": ".py",
   "mimetype": "text/x-python",
   "name": "python",
   "nbconvert_exporter": "python",
   "pygments_lexer": "ipython3",
   "version": "3.7.6"
  }
 },
 "nbformat": 4,
 "nbformat_minor": 4
}
