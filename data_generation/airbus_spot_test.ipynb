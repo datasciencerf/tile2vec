{
 "cells": [
  {
   "cell_type": "code",
   "execution_count": null,
   "metadata": {},
   "outputs": [],
   "source": [
    "import descarteslabs as dl\n",
    "import numpy as np\n",
    "import pickle\n",
    "from descarteslabs.client.services import Places\n",
    "import pandas as pd\n",
    "import matplotlib as mpl\n",
    "import matplotlib.patches as patches\n",
    "from matplotlib import pyplot as plt\n",
    "from tqdm.notebook import tqdm\n",
    "%matplotlib inline"
   ]
  },
  {
   "cell_type": "code",
   "execution_count": null,
   "metadata": {},
   "outputs": [],
   "source": [
    "#ca_counties = Places().prefix('north-america_united-states_california_sacramento-valley', placetype='county')\n",
    "# The below coordinates are for a roughly square region in Butte, County CA.\n",
    "t2v_area ={\n",
    "    \"type\": \"Polygon\",\n",
    "    \"coordinates\": [[\n",
    "        [-121.93, 39.8], [-121.68, 39.8], [-121.68, 39.55], [-121.93, 39.55], [-121.93, 39.8]\n",
    "    ]]\n",
    "}\n",
    "t2v_aoi = dl.scenes.AOI(t2v_area, resolution=1)"
   ]
  },
  {
   "cell_type": "code",
   "execution_count": null,
   "metadata": {},
   "outputs": [],
   "source": [
    "# Defining distance metrics to use for sampling neighboring and distant tiles.\n",
    "def haversine(g1, g2):\n",
    "    \"\"\"Calculate the Haversine Distance between two gps (lon, lat) coordinates.\"\"\"\n",
    "    earth_r = 6373.0\n",
    "    g1, g2 = np.radians(g1[::-1]), np.radians(g2[::-1])\n",
    "    delta = g1 - g2\n",
    "    a = np.sin(delta[0] / 2)**2 + np.cos(g1[0]) * np.cos(g2[0]) * np.sin(delta[1] / 2)**2\n",
    "    return  np.round(2000 * earth_r * np.arctan2(np.sqrt(a), np.sqrt(1-a)))\n",
    "\n",
    "def tile_distance(t1, t2):\n",
    "    \"\"\"Calculates the distances between first coordinates\"\"\"\n",
    "    g1, g2 = t1['geometry']['coordinates'][0], t2['geometry']['coordinates'][0]\n",
    "    return haversine(g1[0], g2[0])"
   ]
  },
  {
   "cell_type": "code",
   "execution_count": null,
   "metadata": {},
   "outputs": [],
   "source": [
    "### Tile Data Generating Code\n",
    "# Step 1: Generate the tiling of our Area of Interest.\n",
    "tiles = dl.raster.dltiles_from_shape(resolution=1,\n",
    "                                     tilesize=100,\n",
    "                                     pad=15,\n",
    "                                     shape=t2v_aoi)\n",
    "# Print total number of tiles.\n",
    "print(len(tiles['features']))\n",
    "\n",
    "# Take the tile geometry and retrieve imagery. NOTE: This step can take a while to run!\n",
    "tile_data = {}\n",
    "for k, tile in tqdm(enumerate(tiles['features'])):\n",
    "    scenes, ctx = dl.scenes.search(\n",
    "                        tile,\n",
    "                        products='airbus:oneatlas:spot:v2',\n",
    "                        start_datetime=\"2019-07-28\",\n",
    "                        end_datetime=\"2019-07-29\",\n",
    "                        limit=1\n",
    "                       )\n",
    "    tile_data[k] = {\n",
    "        'geometry': tile['geometry'],\n",
    "        'array': np.array(scenes.stack(\"red green blue nir derived:evi\", ctx)[0])\n",
    "    }\n",
    "    \n",
    "# Pickle the date to make it easier to load in subsequent sessions.\n",
    "fp = '/save_path/tiles.pickle' # Put your desired save path here\n",
    "with open(fp, 'wb') as path:\n",
    "    pickle.dump(tile_data, path, protocol=pickle.HIGHEST_PROTOCOL)\n",
    "# Save the individual tile arrays for use in model training\n",
    "array_fpb = '/save_path_directorty/' # Put Desired Path to directory where tile arrays will live.\n",
    "for k in tqdm(range(len(tile_data))):\n",
    "    fp = f\"{array_fpb}.tile_{k}.npy\"\n",
    "    np.save(fp, tile_data[k]['array'])"
   ]
  },
  {
   "cell_type": "code",
   "execution_count": null,
   "metadata": {},
   "outputs": [],
   "source": [
    "# Generate Imagery for the entire AOI.\n",
    "scenes_area, ctx_area = dl.scenes.search(\n",
    "                    t2v_aoi,\n",
    "                    products='airbus:oneatlas:spot:v2',\n",
    "                    start_datetime=\"2019-07-28\",\n",
    "                    end_datetime=\"2019-07-29\",\n",
    "#                   cloud_fraction=0.7,\n",
    "                    limit=1\n",
    "                   )\n",
    "test_area = scenes_area.stack(\"red green blue\", ctx_area.assign(resolution=10))\n",
    "dl.scenes.display(test_area[0], size=10)"
   ]
  },
  {
   "cell_type": "code",
   "execution_count": null,
   "metadata": {},
   "outputs": [],
   "source": [
    "# Function to take array and make it displayable for matplotlib.\n",
    "def plot_im(a, figsize, patch=None):\n",
    "    if a.shape[0] > 3:\n",
    "        a = np.transpose(a[:3], (1,2,0))\n",
    "    else:\n",
    "        a = np.transpose(a, (1,2,0))\n",
    "    fig, ax = plt.subplots(1, figsize=figsize)\n",
    "    ax.imshow(a)\n",
    "    if patch is not None:\n",
    "        rect = patches.Rectangle(patch[0], patch[1], patch[2], linewidth=1,edgecolor='r',facecolor='none')\n",
    "        ax.add_patch(rect)\n",
    "    plt.show()"
   ]
  },
  {
   "cell_type": "code",
   "execution_count": null,
   "metadata": {},
   "outputs": [],
   "source": [
    "# View entire AOI\n",
    "plot_im(test_area[0], (5,10))"
   ]
  },
  {
   "cell_type": "code",
   "execution_count": null,
   "metadata": {},
   "outputs": [],
   "source": [
    "# View a random Tile\n",
    "plot_im(tile_data[40]['array'], (5,5))"
   ]
  },
  {
   "cell_type": "code",
   "execution_count": null,
   "metadata": {},
   "outputs": [],
   "source": [
    "# Code to randomly samply (anchor, neighbor, distant) triplets modified slightly from tile2vec paper.\n",
    "def get_triplet(triplets, start_ix):\n",
    "    nbd, dist = None, None\n",
    "    while dist is None:\n",
    "        for k in np.random.choice(len(tile_data), 50, False):\n",
    "            if tile_distance(tile_data[start_ix], tile_data[k]) >= 150:\n",
    "                dist = k\n",
    "                break\n",
    "    while nbd is None:\n",
    "        for k in np.random.choice(np.arange(max(0, start_ix-5000), min(len(tile_data), start_ix+5000)),\n",
    "                                  50, False):\n",
    "            if tile_distance(tile_data[start_ix], tile_data[k]) < 150:\n",
    "                nbd = k\n",
    "                break\n",
    "    triplets.add((start_ix, nbd, dist))\n",
    "    return triplets\n",
    "\n",
    "# Run the generation\n",
    "triplets = set()\n",
    "for ix in tqdm(range(len(tile_data))):\n",
    "    triplets = get_triplet(triplets, ix)\n",
    "trip_list = list(triplets)\n",
    "\n",
    "# Pickle the triplets for later use.\n",
    "fp = 'data/tiles_butte/tile_triplets.pickle'\n",
    "with open(fp, 'wb') as path:\n",
    "    pickle.dump(triplets, path, protocol=pickle.HIGHEST_PROTOCOL)"
   ]
  },
  {
   "cell_type": "code",
   "execution_count": null,
   "metadata": {},
   "outputs": [],
   "source": [
    "from scipy.stats import mode"
   ]
  },
  {
   "cell_type": "code",
   "execution_count": null,
   "metadata": {},
   "outputs": [],
   "source": [
    "# Get the Crop Data Layer Mask for Tiles. As per tile2vec paper use the mode as class label.\n",
    "y = np.zeros(59999, dtype='int')\n",
    "tile_aoi = dl.scenes.AOI(tile_data[k]['geometry'], resolution=1)\n",
    "for k in tqdm(range(59999)):\n",
    "    tile_aoi = dl.scenes.AOI(tile_data[k]['geometry'], resolution=1)\n",
    "    scenes_area, ctx_area = dl.scenes.search(\n",
    "                        tile_aoi,\n",
    "                        products='usda:cdl:v1',\n",
    "                        start_datetime=\"2019-07-28\",\n",
    "                        end_datetime=\"2020-01-01\",\n",
    "    #                   cloud_fraction=0.7,\n",
    "                        limit=1\n",
    "                       )\n",
    "    y[k] = mode(np.array(scenes_area.stack('class', ctx_area))[0,0,:,:].flatten())[0][0]\n",
    "    \n",
    "# Save the class label array\n",
    "fpy = '/save_path/tile_labels.npy' # Put your save path here\n",
    "np.save(fpy, y)"
   ]
  },
  {
   "cell_type": "code",
   "execution_count": null,
   "metadata": {},
   "outputs": [],
   "source": []
  }
 ],
 "metadata": {
  "kernelspec": {
   "display_name": "Python 3",
   "language": "python",
   "name": "python3"
  },
  "language_info": {
   "codemirror_mode": {
    "name": "ipython",
    "version": 3
   },
   "file_extension": ".py",
   "mimetype": "text/x-python",
   "name": "python",
   "nbconvert_exporter": "python",
   "pygments_lexer": "ipython3",
   "version": "3.7.6"
  }
 },
 "nbformat": 4,
 "nbformat_minor": 4
}
